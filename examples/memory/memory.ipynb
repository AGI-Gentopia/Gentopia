{
 "cells": [
  {
   "cell_type": "code",
   "execution_count": 1,
   "metadata": {
    "collapsed": true
   },
   "outputs": [],
   "source": [
    "from gentopia.assembler.agent_assembler import AgentAssembler\n",
    "from gentopia.output import enable_log\n",
    "from gentopia import chat\n",
    "import dotenv"
   ]
  },
  {
   "cell_type": "code",
   "execution_count": 10,
   "outputs": [
    {
     "data": {
      "text/plain": "\u001B[1;35mOpenAIMemoryChatAgent\u001B[0m\u001B[1m(\u001B[0m\n    \u001B[33mname\u001B[0m=\u001B[32m'main\u001B[0m\u001B[32m(\u001B[0m\u001B[32mmemory\u001B[0m\u001B[32m)\u001B[0m\u001B[32m'\u001B[0m,\n    \u001B[33mtype\u001B[0m=\u001B[1m<\u001B[0m\u001B[1;95mAgentType.openai_memory:\u001B[0m\u001B[39m \u001B[0m\u001B[32m'openai_memory'\u001B[0m\u001B[39m>,\u001B[0m\n\u001B[39m    \u001B[0m\u001B[33mversion\u001B[0m\u001B[39m=\u001B[0m\u001B[32m'0.0.1'\u001B[0m\u001B[39m,\u001B[0m\n\u001B[39m    \u001B[0m\u001B[33mdescription\u001B[0m\u001B[39m=\u001B[0m\u001B[32m'main agent leveraging OpenAI function call API.'\u001B[0m\u001B[39m,\u001B[0m\n\u001B[39m    \u001B[0m\u001B[33mtarget_tasks\u001B[0m\u001B[39m=\u001B[0m\u001B[1;39m[\u001B[0m\u001B[32m'anything'\u001B[0m\u001B[1;39m]\u001B[0m\u001B[39m,\u001B[0m\n\u001B[39m    \u001B[0m\u001B[33mllm\u001B[0m\u001B[39m=\u001B[0m\u001B[1;35mOpenAIGPTClient\u001B[0m\u001B[1;39m(\u001B[0m\n\u001B[39m        \u001B[0m\u001B[33mmodel_name\u001B[0m\u001B[39m=\u001B[0m\u001B[32m'gpt-4-0613'\u001B[0m\u001B[39m,\u001B[0m\n\u001B[39m        \u001B[0m\u001B[33mparams\u001B[0m\u001B[39m=\u001B[0m\u001B[1;35mOpenAIParamModel\u001B[0m\u001B[1;39m(\u001B[0m\n\u001B[39m            \u001B[0m\u001B[33mmax_tokens\u001B[0m\u001B[39m=\u001B[0m\u001B[1;36m1024\u001B[0m\u001B[39m,\u001B[0m\n\u001B[39m            \u001B[0m\u001B[33mtemperature\u001B[0m\u001B[39m=\u001B[0m\u001B[1;36m0\u001B[0m\u001B[1;36m.0\u001B[0m\u001B[39m,\u001B[0m\n\u001B[39m            \u001B[0m\u001B[33mtop_p\u001B[0m\u001B[39m=\u001B[0m\u001B[1;36m0\u001B[0m\u001B[1;36m.9\u001B[0m\u001B[39m,\u001B[0m\n\u001B[39m            \u001B[0m\u001B[33mpresence_penalty\u001B[0m\u001B[39m=\u001B[0m\u001B[1;36m0\u001B[0m\u001B[1;36m.0\u001B[0m\u001B[39m,\u001B[0m\n\u001B[39m            \u001B[0m\u001B[33mfrequency_penalty\u001B[0m\u001B[39m=\u001B[0m\u001B[1;36m0\u001B[0m\u001B[1;36m.0\u001B[0m\u001B[39m,\u001B[0m\n\u001B[39m            \u001B[0m\u001B[33mn\u001B[0m\u001B[39m=\u001B[0m\u001B[1;36m1\u001B[0m\u001B[39m,\u001B[0m\n\u001B[39m            \u001B[0m\u001B[33mstop\u001B[0m\u001B[39m=\u001B[0m\u001B[1;39m[\u001B[0m\u001B[1;39m]\u001B[0m\n\u001B[39m        \u001B[0m\u001B[1;39m)\u001B[0m\n\u001B[39m    \u001B[0m\u001B[1;39m)\u001B[0m\u001B[39m,\u001B[0m\n\u001B[39m    \u001B[0m\u001B[33mprompt_template\u001B[0m\u001B[39m=\u001B[0m\u001B[1;35mPromptTemplate\u001B[0m\u001B[1;39m(\u001B[0m\n\u001B[39m        \u001B[0m\u001B[33minput_variables\u001B[0m\u001B[39m=\u001B[0m\u001B[1;39m[\u001B[0m\u001B[32m'instruction'\u001B[0m\u001B[1;39m]\u001B[0m\u001B[39m,\u001B[0m\n\u001B[39m        \u001B[0m\u001B[33mtemplate\u001B[0m\u001B[39m=\u001B[0m\u001B[32m'\u001B[0m\u001B[32m{\u001B[0m\u001B[32minstruction\u001B[0m\u001B[32m}\u001B[0m\u001B[32m'\u001B[0m\u001B[39m,\u001B[0m\n\u001B[39m        \u001B[0m\u001B[33mvalidate_template\u001B[0m\u001B[39m=\u001B[0m\u001B[3;92mTrue\u001B[0m\u001B[39m,\u001B[0m\n\u001B[39m        \u001B[0m\u001B[33mskip_on_failure\u001B[0m\u001B[39m=\u001B[0m\u001B[3;92mTrue\u001B[0m\n\u001B[39m    \u001B[0m\u001B[1;39m)\u001B[0m\u001B[39m,\u001B[0m\n\u001B[39m    \u001B[0m\u001B[33mplugins\u001B[0m\u001B[39m=\u001B[0m\u001B[1;39m[\u001B[0m\n\u001B[39m        \u001B[0m\u001B[1;35mGoogleSearch\u001B[0m\u001B[1;39m(\u001B[0m\n\u001B[39m            \u001B[0m\u001B[33mname\u001B[0m\u001B[39m=\u001B[0m\u001B[32m'GoogleSearch'\u001B[0m\u001B[39m,\u001B[0m\n\u001B[39m            \u001B[0m\u001B[33mdescription\u001B[0m\u001B[39m=\u001B[0m\u001B[32m'Tool that searches results from Google. Input should be a search query.'\u001B[0m\u001B[39m,\u001B[0m\n\u001B[39m            \u001B[0m\u001B[33margs_schema\u001B[0m\u001B[39m=<class \u001B[0m\u001B[32m'pydantic.main.GoogleSearchArgs'\u001B[0m\u001B[39m>,\u001B[0m\n\u001B[39m            \u001B[0m\u001B[33mverbose\u001B[0m\u001B[39m=\u001B[0m\u001B[3;91mFalse\u001B[0m\u001B[39m,\u001B[0m\n\u001B[39m            \u001B[0m\u001B[33mhandle_tool_error\u001B[0m\u001B[39m=\u001B[0m\u001B[3;91mFalse\u001B[0m\n\u001B[39m        \u001B[0m\u001B[1;39m)\u001B[0m\u001B[39m,\u001B[0m\n\u001B[39m        \u001B[0m\u001B[1;35mWebPage\u001B[0m\u001B[1;39m(\u001B[0m\n\u001B[39m            \u001B[0m\u001B[33mname\u001B[0m\u001B[39m=\u001B[0m\u001B[32m'WebPage'\u001B[0m\u001B[39m,\u001B[0m\n\u001B[39m            \u001B[0m\u001B[33mdescription\u001B[0m\u001B[39m=\u001B[0m\u001B[32m'Worker that can get web pages through url. Useful when you have a  url and need to find \u001B[0m\n\u001B[32mdetailed information.You must make sure that the url is real and correct, come from plugin or user input.Input \u001B[0m\n\u001B[32mshould be a url.'\u001B[0m\u001B[39m,\u001B[0m\n\u001B[39m            \u001B[0m\u001B[33margs_schema\u001B[0m\u001B[39m=<class \u001B[0m\u001B[32m'pydantic.main.WebPageArgs'\u001B[0m\u001B[39m>,\u001B[0m\n\u001B[39m            \u001B[0m\u001B[33mverbose\u001B[0m\u001B[39m=\u001B[0m\u001B[3;91mFalse\u001B[0m\u001B[39m,\u001B[0m\n\u001B[39m            \u001B[0m\u001B[33mhandle_tool_error\u001B[0m\u001B[39m=\u001B[0m\u001B[3;91mFalse\u001B[0m\n\u001B[39m        \u001B[0m\u001B[1;39m)\u001B[0m\n\u001B[39m    \u001B[0m\u001B[1;39m]\u001B[0m\u001B[39m,\u001B[0m\n\u001B[39m    \u001B[0m\u001B[33margs_schema\u001B[0m\u001B[39m=<class \u001B[0m\u001B[32m'pydantic.main.ArgsSchema'\u001B[0m\u001B[39m>,\u001B[0m\n\u001B[39m    \u001B[0m\u001B[33mmemory\u001B[0m\u001B[39m=\u001B[0m\u001B[1;35mMemoryWrapper\u001B[0m\u001B[1;39m(\u001B[0m\n\u001B[39m        \u001B[0m\u001B[33mmemory\u001B[0m\u001B[39m=\u001B[0m\u001B[1;35mVectorStoreRetrieverMemory\u001B[0m\u001B[1;39m(\u001B[0m\n\u001B[39m            \u001B[0m\u001B[33mretriever\u001B[0m\u001B[39m=\u001B[0m\u001B[1;35mVectorStoreRetriever\u001B[0m\u001B[1;39m(\u001B[0m\n\u001B[39m                \u001B[0m\u001B[33mvectorstore\u001B[0m\u001B[39m=<gentopia.memory.vectorstores.chroma.Chroma object at \u001B[0m\u001B[1;36m0x7f88b36e16f0\u001B[0m\u001B[1m>\u001B[0m,\n                \u001B[33msearch_type\u001B[0m=\u001B[32m'similarity'\u001B[0m,\n                \u001B[33msearch_kwargs\u001B[0m=\u001B[1m{\u001B[0m\u001B[32m'k'\u001B[0m: \u001B[1;36m2\u001B[0m\u001B[1m}\u001B[0m\n            \u001B[1m)\u001B[0m,\n            \u001B[33mmemory_key\u001B[0m=\u001B[32m'history'\u001B[0m,\n            \u001B[33minput_key\u001B[0m=\u001B[3;35mNone\u001B[0m,\n            \u001B[33mreturn_docs\u001B[0m=\u001B[3;91mFalse\u001B[0m\n        \u001B[1m)\u001B[0m,\n        \u001B[33mthreshold_I\u001B[0m=\u001B[1;36m1\u001B[0m,\n        \u001B[33mthreshold_II\u001B[0m=\u001B[1;36m1\u001B[0m\n    \u001B[1m)\u001B[0m,\n    \u001B[33mexamples\u001B[0m=\u001B[3;35mNone\u001B[0m,\n    \u001B[33mmessage_scratchpad\u001B[0m=\u001B[1m[\u001B[0m\u001B[1m{\u001B[0m\u001B[32m'role'\u001B[0m: \u001B[32m'system'\u001B[0m, \u001B[32m'content'\u001B[0m: \u001B[32m'You are a helpful AI assistant.'\u001B[0m\u001B[1m}\u001B[0m\u001B[1m]\u001B[0m,\n    \u001B[33mis_load_memory_tool\u001B[0m=\u001B[3;91mFalse\u001B[0m\n\u001B[1m)\u001B[0m\n",
      "text/html": "<pre style=\"white-space:pre;overflow-x:auto;line-height:normal;font-family:Menlo,'DejaVu Sans Mono',consolas,'Courier New',monospace\"><span style=\"color: #800080; text-decoration-color: #800080; font-weight: bold\">OpenAIMemoryChatAgent</span><span style=\"font-weight: bold\">(</span>\n    <span style=\"color: #808000; text-decoration-color: #808000\">name</span>=<span style=\"color: #008000; text-decoration-color: #008000\">'main(memory)'</span>,\n    <span style=\"color: #808000; text-decoration-color: #808000\">type</span>=<span style=\"font-weight: bold\">&lt;</span><span style=\"color: #ff00ff; text-decoration-color: #ff00ff; font-weight: bold\">AgentType.openai_memory:</span><span style=\"color: #000000; text-decoration-color: #000000\"> </span><span style=\"color: #008000; text-decoration-color: #008000\">'openai_memory'</span><span style=\"color: #000000; text-decoration-color: #000000\">&gt;,</span>\n<span style=\"color: #000000; text-decoration-color: #000000\">    </span><span style=\"color: #808000; text-decoration-color: #808000\">version</span><span style=\"color: #000000; text-decoration-color: #000000\">=</span><span style=\"color: #008000; text-decoration-color: #008000\">'0.0.1'</span><span style=\"color: #000000; text-decoration-color: #000000\">,</span>\n<span style=\"color: #000000; text-decoration-color: #000000\">    </span><span style=\"color: #808000; text-decoration-color: #808000\">description</span><span style=\"color: #000000; text-decoration-color: #000000\">=</span><span style=\"color: #008000; text-decoration-color: #008000\">'main agent leveraging OpenAI function call API.'</span><span style=\"color: #000000; text-decoration-color: #000000\">,</span>\n<span style=\"color: #000000; text-decoration-color: #000000\">    </span><span style=\"color: #808000; text-decoration-color: #808000\">target_tasks</span><span style=\"color: #000000; text-decoration-color: #000000\">=</span><span style=\"color: #000000; text-decoration-color: #000000; font-weight: bold\">[</span><span style=\"color: #008000; text-decoration-color: #008000\">'anything'</span><span style=\"color: #000000; text-decoration-color: #000000; font-weight: bold\">]</span><span style=\"color: #000000; text-decoration-color: #000000\">,</span>\n<span style=\"color: #000000; text-decoration-color: #000000\">    </span><span style=\"color: #808000; text-decoration-color: #808000\">llm</span><span style=\"color: #000000; text-decoration-color: #000000\">=</span><span style=\"color: #800080; text-decoration-color: #800080; font-weight: bold\">OpenAIGPTClient</span><span style=\"color: #000000; text-decoration-color: #000000; font-weight: bold\">(</span>\n<span style=\"color: #000000; text-decoration-color: #000000\">        </span><span style=\"color: #808000; text-decoration-color: #808000\">model_name</span><span style=\"color: #000000; text-decoration-color: #000000\">=</span><span style=\"color: #008000; text-decoration-color: #008000\">'gpt-4-0613'</span><span style=\"color: #000000; text-decoration-color: #000000\">,</span>\n<span style=\"color: #000000; text-decoration-color: #000000\">        </span><span style=\"color: #808000; text-decoration-color: #808000\">params</span><span style=\"color: #000000; text-decoration-color: #000000\">=</span><span style=\"color: #800080; text-decoration-color: #800080; font-weight: bold\">OpenAIParamModel</span><span style=\"color: #000000; text-decoration-color: #000000; font-weight: bold\">(</span>\n<span style=\"color: #000000; text-decoration-color: #000000\">            </span><span style=\"color: #808000; text-decoration-color: #808000\">max_tokens</span><span style=\"color: #000000; text-decoration-color: #000000\">=</span><span style=\"color: #008080; text-decoration-color: #008080; font-weight: bold\">1024</span><span style=\"color: #000000; text-decoration-color: #000000\">,</span>\n<span style=\"color: #000000; text-decoration-color: #000000\">            </span><span style=\"color: #808000; text-decoration-color: #808000\">temperature</span><span style=\"color: #000000; text-decoration-color: #000000\">=</span><span style=\"color: #008080; text-decoration-color: #008080; font-weight: bold\">0.0</span><span style=\"color: #000000; text-decoration-color: #000000\">,</span>\n<span style=\"color: #000000; text-decoration-color: #000000\">            </span><span style=\"color: #808000; text-decoration-color: #808000\">top_p</span><span style=\"color: #000000; text-decoration-color: #000000\">=</span><span style=\"color: #008080; text-decoration-color: #008080; font-weight: bold\">0.9</span><span style=\"color: #000000; text-decoration-color: #000000\">,</span>\n<span style=\"color: #000000; text-decoration-color: #000000\">            </span><span style=\"color: #808000; text-decoration-color: #808000\">presence_penalty</span><span style=\"color: #000000; text-decoration-color: #000000\">=</span><span style=\"color: #008080; text-decoration-color: #008080; font-weight: bold\">0.0</span><span style=\"color: #000000; text-decoration-color: #000000\">,</span>\n<span style=\"color: #000000; text-decoration-color: #000000\">            </span><span style=\"color: #808000; text-decoration-color: #808000\">frequency_penalty</span><span style=\"color: #000000; text-decoration-color: #000000\">=</span><span style=\"color: #008080; text-decoration-color: #008080; font-weight: bold\">0.0</span><span style=\"color: #000000; text-decoration-color: #000000\">,</span>\n<span style=\"color: #000000; text-decoration-color: #000000\">            </span><span style=\"color: #808000; text-decoration-color: #808000\">n</span><span style=\"color: #000000; text-decoration-color: #000000\">=</span><span style=\"color: #008080; text-decoration-color: #008080; font-weight: bold\">1</span><span style=\"color: #000000; text-decoration-color: #000000\">,</span>\n<span style=\"color: #000000; text-decoration-color: #000000\">            </span><span style=\"color: #808000; text-decoration-color: #808000\">stop</span><span style=\"color: #000000; text-decoration-color: #000000\">=</span><span style=\"color: #000000; text-decoration-color: #000000; font-weight: bold\">[]</span>\n<span style=\"color: #000000; text-decoration-color: #000000\">        </span><span style=\"color: #000000; text-decoration-color: #000000; font-weight: bold\">)</span>\n<span style=\"color: #000000; text-decoration-color: #000000\">    </span><span style=\"color: #000000; text-decoration-color: #000000; font-weight: bold\">)</span><span style=\"color: #000000; text-decoration-color: #000000\">,</span>\n<span style=\"color: #000000; text-decoration-color: #000000\">    </span><span style=\"color: #808000; text-decoration-color: #808000\">prompt_template</span><span style=\"color: #000000; text-decoration-color: #000000\">=</span><span style=\"color: #800080; text-decoration-color: #800080; font-weight: bold\">PromptTemplate</span><span style=\"color: #000000; text-decoration-color: #000000; font-weight: bold\">(</span>\n<span style=\"color: #000000; text-decoration-color: #000000\">        </span><span style=\"color: #808000; text-decoration-color: #808000\">input_variables</span><span style=\"color: #000000; text-decoration-color: #000000\">=</span><span style=\"color: #000000; text-decoration-color: #000000; font-weight: bold\">[</span><span style=\"color: #008000; text-decoration-color: #008000\">'instruction'</span><span style=\"color: #000000; text-decoration-color: #000000; font-weight: bold\">]</span><span style=\"color: #000000; text-decoration-color: #000000\">,</span>\n<span style=\"color: #000000; text-decoration-color: #000000\">        </span><span style=\"color: #808000; text-decoration-color: #808000\">template</span><span style=\"color: #000000; text-decoration-color: #000000\">=</span><span style=\"color: #008000; text-decoration-color: #008000\">'{instruction}'</span><span style=\"color: #000000; text-decoration-color: #000000\">,</span>\n<span style=\"color: #000000; text-decoration-color: #000000\">        </span><span style=\"color: #808000; text-decoration-color: #808000\">validate_template</span><span style=\"color: #000000; text-decoration-color: #000000\">=</span><span style=\"color: #00ff00; text-decoration-color: #00ff00; font-style: italic\">True</span><span style=\"color: #000000; text-decoration-color: #000000\">,</span>\n<span style=\"color: #000000; text-decoration-color: #000000\">        </span><span style=\"color: #808000; text-decoration-color: #808000\">skip_on_failure</span><span style=\"color: #000000; text-decoration-color: #000000\">=</span><span style=\"color: #00ff00; text-decoration-color: #00ff00; font-style: italic\">True</span>\n<span style=\"color: #000000; text-decoration-color: #000000\">    </span><span style=\"color: #000000; text-decoration-color: #000000; font-weight: bold\">)</span><span style=\"color: #000000; text-decoration-color: #000000\">,</span>\n<span style=\"color: #000000; text-decoration-color: #000000\">    </span><span style=\"color: #808000; text-decoration-color: #808000\">plugins</span><span style=\"color: #000000; text-decoration-color: #000000\">=</span><span style=\"color: #000000; text-decoration-color: #000000; font-weight: bold\">[</span>\n<span style=\"color: #000000; text-decoration-color: #000000\">        </span><span style=\"color: #800080; text-decoration-color: #800080; font-weight: bold\">GoogleSearch</span><span style=\"color: #000000; text-decoration-color: #000000; font-weight: bold\">(</span>\n<span style=\"color: #000000; text-decoration-color: #000000\">            </span><span style=\"color: #808000; text-decoration-color: #808000\">name</span><span style=\"color: #000000; text-decoration-color: #000000\">=</span><span style=\"color: #008000; text-decoration-color: #008000\">'GoogleSearch'</span><span style=\"color: #000000; text-decoration-color: #000000\">,</span>\n<span style=\"color: #000000; text-decoration-color: #000000\">            </span><span style=\"color: #808000; text-decoration-color: #808000\">description</span><span style=\"color: #000000; text-decoration-color: #000000\">=</span><span style=\"color: #008000; text-decoration-color: #008000\">'Tool that searches results from Google. Input should be a search query.'</span><span style=\"color: #000000; text-decoration-color: #000000\">,</span>\n<span style=\"color: #000000; text-decoration-color: #000000\">            </span><span style=\"color: #808000; text-decoration-color: #808000\">args_schema</span><span style=\"color: #000000; text-decoration-color: #000000\">=&lt;class </span><span style=\"color: #008000; text-decoration-color: #008000\">'pydantic.main.GoogleSearchArgs'</span><span style=\"color: #000000; text-decoration-color: #000000\">&gt;,</span>\n<span style=\"color: #000000; text-decoration-color: #000000\">            </span><span style=\"color: #808000; text-decoration-color: #808000\">verbose</span><span style=\"color: #000000; text-decoration-color: #000000\">=</span><span style=\"color: #ff0000; text-decoration-color: #ff0000; font-style: italic\">False</span><span style=\"color: #000000; text-decoration-color: #000000\">,</span>\n<span style=\"color: #000000; text-decoration-color: #000000\">            </span><span style=\"color: #808000; text-decoration-color: #808000\">handle_tool_error</span><span style=\"color: #000000; text-decoration-color: #000000\">=</span><span style=\"color: #ff0000; text-decoration-color: #ff0000; font-style: italic\">False</span>\n<span style=\"color: #000000; text-decoration-color: #000000\">        </span><span style=\"color: #000000; text-decoration-color: #000000; font-weight: bold\">)</span><span style=\"color: #000000; text-decoration-color: #000000\">,</span>\n<span style=\"color: #000000; text-decoration-color: #000000\">        </span><span style=\"color: #800080; text-decoration-color: #800080; font-weight: bold\">WebPage</span><span style=\"color: #000000; text-decoration-color: #000000; font-weight: bold\">(</span>\n<span style=\"color: #000000; text-decoration-color: #000000\">            </span><span style=\"color: #808000; text-decoration-color: #808000\">name</span><span style=\"color: #000000; text-decoration-color: #000000\">=</span><span style=\"color: #008000; text-decoration-color: #008000\">'WebPage'</span><span style=\"color: #000000; text-decoration-color: #000000\">,</span>\n<span style=\"color: #000000; text-decoration-color: #000000\">            </span><span style=\"color: #808000; text-decoration-color: #808000\">description</span><span style=\"color: #000000; text-decoration-color: #000000\">=</span><span style=\"color: #008000; text-decoration-color: #008000\">'Worker that can get web pages through url. Useful when you have a  url and need to find </span>\n<span style=\"color: #008000; text-decoration-color: #008000\">detailed information.You must make sure that the url is real and correct, come from plugin or user input.Input </span>\n<span style=\"color: #008000; text-decoration-color: #008000\">should be a url.'</span><span style=\"color: #000000; text-decoration-color: #000000\">,</span>\n<span style=\"color: #000000; text-decoration-color: #000000\">            </span><span style=\"color: #808000; text-decoration-color: #808000\">args_schema</span><span style=\"color: #000000; text-decoration-color: #000000\">=&lt;class </span><span style=\"color: #008000; text-decoration-color: #008000\">'pydantic.main.WebPageArgs'</span><span style=\"color: #000000; text-decoration-color: #000000\">&gt;,</span>\n<span style=\"color: #000000; text-decoration-color: #000000\">            </span><span style=\"color: #808000; text-decoration-color: #808000\">verbose</span><span style=\"color: #000000; text-decoration-color: #000000\">=</span><span style=\"color: #ff0000; text-decoration-color: #ff0000; font-style: italic\">False</span><span style=\"color: #000000; text-decoration-color: #000000\">,</span>\n<span style=\"color: #000000; text-decoration-color: #000000\">            </span><span style=\"color: #808000; text-decoration-color: #808000\">handle_tool_error</span><span style=\"color: #000000; text-decoration-color: #000000\">=</span><span style=\"color: #ff0000; text-decoration-color: #ff0000; font-style: italic\">False</span>\n<span style=\"color: #000000; text-decoration-color: #000000\">        </span><span style=\"color: #000000; text-decoration-color: #000000; font-weight: bold\">)</span>\n<span style=\"color: #000000; text-decoration-color: #000000\">    </span><span style=\"color: #000000; text-decoration-color: #000000; font-weight: bold\">]</span><span style=\"color: #000000; text-decoration-color: #000000\">,</span>\n<span style=\"color: #000000; text-decoration-color: #000000\">    </span><span style=\"color: #808000; text-decoration-color: #808000\">args_schema</span><span style=\"color: #000000; text-decoration-color: #000000\">=&lt;class </span><span style=\"color: #008000; text-decoration-color: #008000\">'pydantic.main.ArgsSchema'</span><span style=\"color: #000000; text-decoration-color: #000000\">&gt;,</span>\n<span style=\"color: #000000; text-decoration-color: #000000\">    </span><span style=\"color: #808000; text-decoration-color: #808000\">memory</span><span style=\"color: #000000; text-decoration-color: #000000\">=</span><span style=\"color: #800080; text-decoration-color: #800080; font-weight: bold\">MemoryWrapper</span><span style=\"color: #000000; text-decoration-color: #000000; font-weight: bold\">(</span>\n<span style=\"color: #000000; text-decoration-color: #000000\">        </span><span style=\"color: #808000; text-decoration-color: #808000\">memory</span><span style=\"color: #000000; text-decoration-color: #000000\">=</span><span style=\"color: #800080; text-decoration-color: #800080; font-weight: bold\">VectorStoreRetrieverMemory</span><span style=\"color: #000000; text-decoration-color: #000000; font-weight: bold\">(</span>\n<span style=\"color: #000000; text-decoration-color: #000000\">            </span><span style=\"color: #808000; text-decoration-color: #808000\">retriever</span><span style=\"color: #000000; text-decoration-color: #000000\">=</span><span style=\"color: #800080; text-decoration-color: #800080; font-weight: bold\">VectorStoreRetriever</span><span style=\"color: #000000; text-decoration-color: #000000; font-weight: bold\">(</span>\n<span style=\"color: #000000; text-decoration-color: #000000\">                </span><span style=\"color: #808000; text-decoration-color: #808000\">vectorstore</span><span style=\"color: #000000; text-decoration-color: #000000\">=&lt;gentopia.memory.vectorstores.chroma.Chroma object at </span><span style=\"color: #008080; text-decoration-color: #008080; font-weight: bold\">0x7f88b36e16f0</span><span style=\"font-weight: bold\">&gt;</span>,\n                <span style=\"color: #808000; text-decoration-color: #808000\">search_type</span>=<span style=\"color: #008000; text-decoration-color: #008000\">'similarity'</span>,\n                <span style=\"color: #808000; text-decoration-color: #808000\">search_kwargs</span>=<span style=\"font-weight: bold\">{</span><span style=\"color: #008000; text-decoration-color: #008000\">'k'</span>: <span style=\"color: #008080; text-decoration-color: #008080; font-weight: bold\">2</span><span style=\"font-weight: bold\">}</span>\n            <span style=\"font-weight: bold\">)</span>,\n            <span style=\"color: #808000; text-decoration-color: #808000\">memory_key</span>=<span style=\"color: #008000; text-decoration-color: #008000\">'history'</span>,\n            <span style=\"color: #808000; text-decoration-color: #808000\">input_key</span>=<span style=\"color: #800080; text-decoration-color: #800080; font-style: italic\">None</span>,\n            <span style=\"color: #808000; text-decoration-color: #808000\">return_docs</span>=<span style=\"color: #ff0000; text-decoration-color: #ff0000; font-style: italic\">False</span>\n        <span style=\"font-weight: bold\">)</span>,\n        <span style=\"color: #808000; text-decoration-color: #808000\">threshold_I</span>=<span style=\"color: #008080; text-decoration-color: #008080; font-weight: bold\">1</span>,\n        <span style=\"color: #808000; text-decoration-color: #808000\">threshold_II</span>=<span style=\"color: #008080; text-decoration-color: #008080; font-weight: bold\">1</span>\n    <span style=\"font-weight: bold\">)</span>,\n    <span style=\"color: #808000; text-decoration-color: #808000\">examples</span>=<span style=\"color: #800080; text-decoration-color: #800080; font-style: italic\">None</span>,\n    <span style=\"color: #808000; text-decoration-color: #808000\">message_scratchpad</span>=<span style=\"font-weight: bold\">[{</span><span style=\"color: #008000; text-decoration-color: #008000\">'role'</span>: <span style=\"color: #008000; text-decoration-color: #008000\">'system'</span>, <span style=\"color: #008000; text-decoration-color: #008000\">'content'</span>: <span style=\"color: #008000; text-decoration-color: #008000\">'You are a helpful AI assistant.'</span><span style=\"font-weight: bold\">}]</span>,\n    <span style=\"color: #808000; text-decoration-color: #808000\">is_load_memory_tool</span>=<span style=\"color: #ff0000; text-decoration-color: #ff0000; font-style: italic\">False</span>\n<span style=\"font-weight: bold\">)</span>\n</pre>\n"
     },
     "metadata": {},
     "output_type": "display_data"
    },
    {
     "name": "stdout",
     "output_type": "stream",
     "text": [
      "\n"
     ]
    }
   ],
   "source": [
    "enable_log(log_level='info')\n",
    "dotenv.load_dotenv(\".env\")\n",
    "assembler = AgentAssembler(file='config/memory.yaml')\n",
    "agent = assembler.get_agent()\n",
    "print(agent)"
   ],
   "metadata": {
    "collapsed": false
   }
  },
  {
   "cell_type": "code",
   "execution_count": 11,
   "outputs": [],
   "source": [
    "from gentopia import ConsoleOutput\n",
    "\n",
    "output = ConsoleOutput()"
   ],
   "metadata": {
    "collapsed": false
   }
  },
  {
   "cell_type": "code",
   "execution_count": 7,
   "outputs": [
    {
     "data": {
      "text/plain": "Output()",
      "application/vnd.jupyter.widget-view+json": {
       "version_major": 2,
       "version_minor": 0,
       "model_id": "a397b27c316345148646505ad4ec9dcc"
      }
     },
     "metadata": {},
     "output_type": "display_data"
    },
    {
     "data": {
      "text/plain": "",
      "text/html": "<pre style=\"white-space:pre;overflow-x:auto;line-height:normal;font-family:Menlo,'DejaVu Sans Mono',consolas,'Courier New',monospace\"></pre>\n"
     },
     "metadata": {},
     "output_type": "display_data"
    },
    {
     "data": {
      "text/plain": "\u001B[1;34mmain\u001B[0m\u001B[1;34m(\u001B[0m\u001B[34mmemory\u001B[0m\u001B[1;34m)\u001B[0m\u001B[34m: \u001B[0m\n",
      "text/html": "<pre style=\"white-space:pre;overflow-x:auto;line-height:normal;font-family:Menlo,'DejaVu Sans Mono',consolas,'Courier New',monospace\"><span style=\"color: #000080; text-decoration-color: #000080; font-weight: bold\">main(</span><span style=\"color: #000080; text-decoration-color: #000080\">memory</span><span style=\"color: #000080; text-decoration-color: #000080; font-weight: bold\">)</span><span style=\"color: #000080; text-decoration-color: #000080\">: </span>\n</pre>\n"
     },
     "metadata": {},
     "output_type": "display_data"
    },
    {
     "data": {
      "text/plain": "Output()",
      "application/vnd.jupyter.widget-view+json": {
       "version_major": 2,
       "version_minor": 0,
       "model_id": "ea1b254df64a4fa6b21f823e3c06de4c"
      }
     },
     "metadata": {},
     "output_type": "display_data"
    },
    {
     "data": {
      "text/plain": "",
      "text/html": "<pre style=\"white-space:pre;overflow-x:auto;line-height:normal;font-family:Menlo,'DejaVu Sans Mono',consolas,'Courier New',monospace\"></pre>\n"
     },
     "metadata": {},
     "output_type": "display_data"
    }
   ],
   "source": [
    "agent.stream(\"tell me something about life\", output=output)"
   ],
   "metadata": {
    "collapsed": false
   }
  },
  {
   "cell_type": "code",
   "execution_count": 9,
   "outputs": [
    {
     "data": {
      "text/plain": "AgentOutput(output=\"As an AI assistant, my goal is to assist users by providing information and executing tasks as per their requirements. I interact using natural language processing, which enables me to understand and respond to user requests in a natural, human-like way. I can perform tasks such as answering questions, setting reminders or alarms, making appointments, and providing recommendations based on user preferences or past interactions.\\n\\nMy machine learning algorithms allow me to learn and improve over time, adapting to the user's needs and preferences to deliver personalized assistance. Furthermore, my artificial intelligence capabilities enable me to interact intelligently, providing insightful and relevant responses.\\n\\nIt's important to note that while I strive to offer accurate and timely information, I rely on data provided by users or available from public sources. Therefore, users should always evaluate the credibility of information and consider other sources when making significant decisions. \\n\\nIn terms of user privacy, I adhere to strict data privacy and security protocols. I don’t store personal data unless explicitly permitted by the user. My primary function is to provide assistance and make the user's daily tasks more manageable.\", cost=0.0, token_usage=0)"
     },
     "execution_count": 9,
     "metadata": {},
     "output_type": "execute_result"
    }
   ],
   "source": [
    "agent.run(\"tell me more\")"
   ],
   "metadata": {
    "collapsed": false
   }
  },
  {
   "cell_type": "code",
   "execution_count": null,
   "outputs": [],
   "source": [],
   "metadata": {
    "collapsed": false
   }
  }
 ],
 "metadata": {
  "kernelspec": {
   "display_name": "Python 3",
   "language": "python",
   "name": "python3"
  },
  "language_info": {
   "codemirror_mode": {
    "name": "ipython",
    "version": 2
   },
   "file_extension": ".py",
   "mimetype": "text/x-python",
   "name": "python",
   "nbconvert_exporter": "python",
   "pygments_lexer": "ipython2",
   "version": "2.7.6"
  }
 },
 "nbformat": 4,
 "nbformat_minor": 0
}
