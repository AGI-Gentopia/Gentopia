{
 "cells": [
  {
   "cell_type": "code",
   "execution_count": 1,
   "metadata": {
    "collapsed": true,
    "ExecuteTime": {
     "end_time": "2023-06-13T00:30:51.937737272Z",
     "start_time": "2023-06-13T00:30:51.454082421Z"
    }
   },
   "outputs": [],
   "source": [
    "from langchain import PromptTemplate\n",
    "from gentopia.prompt.rewoo import ZeroShotPlannerPrompt"
   ]
  },
  {
   "cell_type": "code",
   "execution_count": 2,
   "outputs": [
    {
     "name": "stdout",
     "output_type": "stream",
     "text": [
      "You are an AI agent who makes step-by-step plans to solve a problem under the help of external tools. \n",
      "For each step, make one plan followed by one tool-call, which will be executed later to retrieve evidence for that step.\n",
      "You should store each evidence into a distinct variable #E1, #E2, #E3 ... that can be referred to in later tool-call inputs.    \n",
      "\n",
      "##Available Tools##\n",
      "Google\n",
      "\n",
      "##Output Format (Replace '<...>')##\n",
      "*Plan1: <describe your plan here>\n",
      "*E1: <ToolName>[<input>]\n",
      "*Plan2: <describe next plan>\n",
      "*E2: <ToolName>[<input, you can use #E1 to represent its expected output>]\n",
      "And so on...\n",
      "  \n",
      "##Your Task##\n",
      "what is 1\n",
      "\n",
      "##Now Begin##\n",
      "\n"
     ]
    }
   ],
   "source": [
    "print(ZeroShotPlannerPrompt.format(tool_description=\"Google\", task=\"what is 1\"))"
   ],
   "metadata": {
    "collapsed": false,
    "ExecuteTime": {
     "end_time": "2023-06-13T00:30:51.939792661Z",
     "start_time": "2023-06-13T00:30:51.938404477Z"
    }
   }
  },
  {
   "cell_type": "code",
   "execution_count": 3,
   "outputs": [],
   "source": [
    "prompt = PromptTemplate(\n",
    "    input_variables=[\"tool_description\", \"task\"],\n",
    "    template=ZeroShotPlannerPrompt,\n",
    ")"
   ],
   "metadata": {
    "collapsed": false,
    "ExecuteTime": {
     "end_time": "2023-06-13T00:22:54.456118921Z",
     "start_time": "2023-06-13T00:22:54.455705703Z"
    }
   }
  },
  {
   "cell_type": "code",
   "execution_count": 5,
   "outputs": [
    {
     "name": "stdout",
     "output_type": "stream",
     "text": [
      "You are an AI agent who makes step-by-step plans to solve a problem under the help of external tools. \n",
      "For each step, make one plan followed by one tool-call, which will be executed later to retrieve evidence for that step.\n",
      "You should store each evidence into a distinct variable #E1, #E2, #E3 ... that can be referred to in later tool-call inputs.    \n",
      "\n",
      "##Available Tools##\n",
      "a hammer\n",
      "\n",
      "##Output Format (Replace '<...>')##\n",
      "*Plan1: <describe your plan here>\n",
      "*E1: <ToolName>[<input>]\n",
      "*Plan2: <describe next plan>\n",
      "*E2: <ToolName>[<input, you can use #E1 to represent its expected output>]\n",
      "And so on...\n",
      "  \n",
      "##Your Task##\n",
      "hammering nails\n",
      "\n",
      "##Now Begin##\n",
      "\n"
     ]
    }
   ],
   "source": [
    "a = prompt.format(tool_description=\"a hammer\", task=\"hammering nails\")\n",
    "print(a)"
   ],
   "metadata": {
    "collapsed": false,
    "ExecuteTime": {
     "end_time": "2023-06-13T00:23:06.717886556Z",
     "start_time": "2023-06-13T00:23:06.717279167Z"
    }
   }
  },
  {
   "cell_type": "code",
   "execution_count": 4,
   "outputs": [
    {
     "data": {
      "text/plain": "'\\nI want you to act as a naming consultant for new companies.\\nWhat is a good name for a company that makes cars?\\n'"
     },
     "execution_count": 4,
     "metadata": {},
     "output_type": "execute_result"
    }
   ],
   "source": [
    "template.format(product=\"cars\")"
   ],
   "metadata": {
    "collapsed": false,
    "ExecuteTime": {
     "end_time": "2023-06-11T17:45:48.144749391Z",
     "start_time": "2023-06-11T17:45:48.141402093Z"
    }
   }
  },
  {
   "cell_type": "code",
   "execution_count": 4,
   "outputs": [
    {
     "data": {
      "text/plain": "100.0"
     },
     "execution_count": 4,
     "metadata": {},
     "output_type": "execute_result"
    }
   ],
   "source": [
    "from rapidfuzz import fuzz\n",
    "fuzz.partial_ratio(\"a hammer\", \"hammer\")"
   ],
   "metadata": {
    "collapsed": false,
    "ExecuteTime": {
     "end_time": "2023-06-13T00:35:57.001351089Z",
     "start_time": "2023-06-13T00:35:56.999597809Z"
    }
   }
  },
  {
   "cell_type": "code",
   "execution_count": null,
   "outputs": [],
   "source": [],
   "metadata": {
    "collapsed": false
   }
  }
 ],
 "metadata": {
  "kernelspec": {
   "display_name": "Python 3",
   "language": "python",
   "name": "python3"
  },
  "language_info": {
   "codemirror_mode": {
    "name": "ipython",
    "version": 2
   },
   "file_extension": ".py",
   "mimetype": "text/x-python",
   "name": "python",
   "nbconvert_exporter": "python",
   "pygments_lexer": "ipython2",
   "version": "2.7.6"
  }
 },
 "nbformat": 4,
 "nbformat_minor": 0
}
